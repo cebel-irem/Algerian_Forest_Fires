{
 "cells": [
  {
   "cell_type": "markdown",
   "metadata": {},
   "source": [
    "# Gerekli Kütüphanelerin Eklenmesi "
   ]
  },
  {
   "cell_type": "code",
   "execution_count": 106,
   "metadata": {},
   "outputs": [],
   "source": [
    "#Gerekli kütüphaneleri projeye ekleyerek başlıyoruz. \n",
    "import pandas as pd #veri işlemleri için pandas kütüphanesini kullanırız\n",
    "import numpy as np  #sayısal işlemler için numpy kullanacağız\n",
    "import matplotlib.pyplot as plt #grafik işlemleri için \n",
    "from sklearn.model_selection import train_test_split #veri bölme\n",
    "from sklearn.preprocessing import StandardScaler, MinMaxScaler, RobustScaler #veri ölçeklendirme\n",
    "\n",
    "from sklearn.svm import SVR #SVR modeli ---> benim ödevdeki algoritmam \n",
    "from sklearn.linear_model import LinearRegression #lineer regresyon \n",
    "from sklearn.preprocessing import PolynomialFeatures #Polinom regresyon \n",
    "from sklearn.metrics import mean_absolute_error, r2_score #Değerlendirme metrikleri\n",
    "\n",
    "#grafiklerin notebook içinde görünmesini sağlamak için aşağıdaki komutu yazıyoruz\n",
    "%matplotlib inline \n"
   ]
  },
  {
   "cell_type": "markdown",
   "metadata": {},
   "source": [
    "# Veri Önişleme "
   ]
  },
  {
   "cell_type": "markdown",
   "metadata": {},
   "source": [
    "_Bir ihtimal veri url yolu ile okunması gerekirse_"
   ]
  },
  {
   "cell_type": "code",
   "execution_count": 107,
   "metadata": {},
   "outputs": [],
   "source": [
    "#url = \"https://archive.ics.uci.edu/ml/machine-learning-databases/00547/Algerian_forest_fires_dataset_UPDATE.csv\"\n",
    "#df = pd.read_csv(url)"
   ]
  },
  {
   "cell_type": "markdown",
   "metadata": {},
   "source": [
    "* Veri Setini Okuma Ve İlk 5 Veriyi Yazdırma / Eksik Değerleri Kontrol"
   ]
  },
  {
   "cell_type": "code",
   "execution_count": null,
   "metadata": {},
   "outputs": [],
   "source": [
    "#Verileri okuyacağız \n",
    "file_path = \"data/forest_fires.csv\" #veri setinin yolunu yazıyoruz. \n",
    "data = pd.read_csv(file_path, skiprows=1, header=0, encoding='utf-8') #Burada dosyayı okuyoruz. \n",
    "print(\"Veri Setinin Ilk 5 Satırı:\") #veri setinde bulunan ilk 5 veriyi çekiyoruz\n",
    "display(data.head()) #ilk 5 veriyi çekecek komut\n",
    "\n",
    "print(\"\\nVeri Setinin Bilgisi:\")\n",
    "data.info() #veri seti hakkında genel bilgiyi bize yazacak\n",
    "\n",
    "print(\"\\nEksik Değerler:\")\n",
    "print(data.isnull().sum()) #eksik değerleri kontol edeceğiz ve print ile yazdıracağız\n"
   ]
  },
  {
   "cell_type": "markdown",
   "metadata": {},
   "source": [
    "* Eksik Değerlerin Temizlenmesi/Düzeltilmesi "
   ]
  },
  {
   "cell_type": "code",
   "execution_count": null,
   "metadata": {},
   "outputs": [],
   "source": [
    "#ilk denemem de veri türlerini dikkate almadığım için hata aldım\n",
    "#veri türlerini kontrol ederek sütunları inceleyelim \n",
    "print(\"\\n Sütunlar ve veri türleri\")\n",
    "print(data.dtypes) #bu komut ile veri türlerini kontrol ediyoruz :)\n",
    "\n",
    "#şimdi eksik değerleri ortalama ile dolduracağımız için sadece sayısal değerleri alıyoruz\n",
    "numeric_columns = data.select_dtypes(include=[np.number]).columns \n",
    "\n",
    "#eksik sütunları ortalama alarak tamamlıyoruz\n",
    "print(\"\\n Eksik değerlerin doldurulması\")\n",
    "data[numeric_columns] = data[numeric_columns].fillna(data[numeric_columns].mean())\n",
    "\n",
    "#Eksik değerler doldurulduktan sonrası\n",
    "print(\"\\n Sonrası\")\n",
    "print(data.isnull().sum())\n",
    "print(\"\\n İlk 5 veri\")\n",
    "display(data.head())"
   ]
  },
  {
   "cell_type": "markdown",
   "metadata": {},
   "source": [
    "* Öznitelik Seçimi "
   ]
  },
  {
   "cell_type": "code",
   "execution_count": 123,
   "metadata": {},
   "outputs": [
    {
     "name": "stdout",
     "output_type": "stream",
     "text": [
      "\n",
      " Bağımsız Değişken Boyutu (246, 6)\n",
      "\n",
      " Bağımlı Değişken Boyutu (246,)\n",
      "\n",
      " Bağımsız Değişkenler:\n"
     ]
    },
    {
     "data": {
      "text/html": [
       "<div>\n",
       "<style scoped>\n",
       "    .dataframe tbody tr th:only-of-type {\n",
       "        vertical-align: middle;\n",
       "    }\n",
       "\n",
       "    .dataframe tbody tr th {\n",
       "        vertical-align: top;\n",
       "    }\n",
       "\n",
       "    .dataframe thead th {\n",
       "        text-align: right;\n",
       "    }\n",
       "</style>\n",
       "<table border=\"1\" class=\"dataframe\">\n",
       "  <thead>\n",
       "    <tr style=\"text-align: right;\">\n",
       "      <th></th>\n",
       "      <th>month</th>\n",
       "      <th>year</th>\n",
       "      <th>Temperature</th>\n",
       "      <th>RH</th>\n",
       "      <th>Ws</th>\n",
       "      <th>Rain</th>\n",
       "    </tr>\n",
       "  </thead>\n",
       "  <tbody>\n",
       "    <tr>\n",
       "      <th>0</th>\n",
       "      <td>06</td>\n",
       "      <td>2012</td>\n",
       "      <td>29</td>\n",
       "      <td>57</td>\n",
       "      <td>18</td>\n",
       "      <td>0</td>\n",
       "    </tr>\n",
       "    <tr>\n",
       "      <th>1</th>\n",
       "      <td>06</td>\n",
       "      <td>2012</td>\n",
       "      <td>29</td>\n",
       "      <td>61</td>\n",
       "      <td>13</td>\n",
       "      <td>1.3</td>\n",
       "    </tr>\n",
       "    <tr>\n",
       "      <th>2</th>\n",
       "      <td>06</td>\n",
       "      <td>2012</td>\n",
       "      <td>26</td>\n",
       "      <td>82</td>\n",
       "      <td>22</td>\n",
       "      <td>13.1</td>\n",
       "    </tr>\n",
       "    <tr>\n",
       "      <th>3</th>\n",
       "      <td>06</td>\n",
       "      <td>2012</td>\n",
       "      <td>25</td>\n",
       "      <td>89</td>\n",
       "      <td>13</td>\n",
       "      <td>2.5</td>\n",
       "    </tr>\n",
       "    <tr>\n",
       "      <th>4</th>\n",
       "      <td>06</td>\n",
       "      <td>2012</td>\n",
       "      <td>27</td>\n",
       "      <td>77</td>\n",
       "      <td>16</td>\n",
       "      <td>0</td>\n",
       "    </tr>\n",
       "  </tbody>\n",
       "</table>\n",
       "</div>"
      ],
      "text/plain": [
       "  month  year Temperature  RH  Ws Rain \n",
       "0    06  2012          29  57  18     0\n",
       "1    06  2012          29  61  13   1.3\n",
       "2    06  2012          26  82  22  13.1\n",
       "3    06  2012          25  89  13   2.5\n",
       "4    06  2012          27  77  16     0"
      ]
     },
     "metadata": {},
     "output_type": "display_data"
    },
    {
     "name": "stdout",
     "output_type": "stream",
     "text": [
      "\n",
      " Bağımlı Değişken:\n"
     ]
    },
    {
     "data": {
      "text/plain": [
       "0    0.5\n",
       "1    0.4\n",
       "2    0.1\n",
       "3      0\n",
       "4    0.5\n",
       "Name: FWI, dtype: object"
      ]
     },
     "metadata": {},
     "output_type": "display_data"
    }
   ],
   "source": [
    "#Ödev de bana \"ilk 1-6 arası öznitelikler kullanılarak modelleme yapılacaktır \" şeklinde bir ibare verildiği için buna dikkate alarak öznitelik seçimlerini yapacağım\n",
    "# ilk 1-6 sütun bağımsız değişkenler yani x olacak \n",
    "x = data.iloc[:, 1:7]\n",
    "\n",
    "#Bağımlı değişken olarak FWI sütununu seçeceğim\n",
    "y = data['FWI']\n",
    "\n",
    "#Seçimleri doğrulamak için verilerin boyutunu kontrol edeceğiz\n",
    "print(\"\\n Bağımsız Değişken Boyutu\", x.shape)\n",
    "print(\"\\n Bağımlı Değişken Boyutu\", y.shape )\n",
    "\n",
    "#ilk 5 satır görüntüleme \n",
    "print(\"\\n Bağımsız Değişkenler:\")\n",
    "display(x.head())\n",
    "print(\"\\n Bağımlı Değişken:\")\n",
    "display(y.head())\n",
    "\n"
   ]
  },
  {
   "cell_type": "markdown",
   "metadata": {},
   "source": [
    "# Verinin Eğitim ve Test Setlerine Ayrılması "
   ]
  },
  {
   "cell_type": "code",
   "execution_count": null,
   "metadata": {},
   "outputs": [],
   "source": [
    "#Veri setini eğitim ve test verisi olarak ikiye böleceğiz. \n",
    "#Ben %70 eğitim - %30 test verisi olarak ayıracağım fakat %80 eğitim - %20 test şeklinde de bölünebilir\n",
    "#Ben projenin performansını ölçmek için 70-30 seçtim. Model daha iyi öğrensin istersek 80-20 seçilebilir.\n",
    "\n",
    "x_train, x_test, y_train, y_test = train_test_split(x,y, test_size=0.3, random_state=42) #bu komut ile veri setini böldük\n",
    "print(\"\\nEğitim Seti Boyutu:\")\n",
    "print(\"x_train:\", x_train.shape, \"y_train:\", y_train.shape) #shape ile görüntüleme işlemi yapacağız\n",
    "print(\"\\nTest Seti Boyutu:\")\n",
    "print(\"x_test:\", x_test.shape, \"y_test:\", y_test.shape)"
   ]
  },
  {
   "cell_type": "markdown",
   "metadata": {},
   "source": [
    "* Veri Ölçeklendirme"
   ]
  },
  {
   "cell_type": "code",
   "execution_count": null,
   "metadata": {},
   "outputs": [],
   "source": [
    "#StandardScaler, veri setindeki özelliklerin(features) standartlaştırılmasını sağlar. \n",
    "#sklearn.preprocessing modülünde yer alır\n",
    "#veriyi hazırlamak için kullanacağız \n",
    "#Bunu kullanmak bize 2 katkı sağlayacak\n",
    "#1. Modelin daha hızlı ve daha doğru öğrenmesi sağlanır.\n",
    "#2. Özniteliklerin (features) farklı ölçekleri arasında dengesizlik önlenir.\n",
    "\n",
    "#SVR modelinde veri ölçeklendirme yapacağız. Bunu yaparken StandardScaler kullanarak normalleştirme yapacağız.\n",
    "#ilk yazdığım kodda sayısal olmayan değişkenleri hesaba katmamıştım. \n",
    "#StandardScaler yalnızca sayısal değerler üzerinde çalışır.\n",
    "\n",
    "#Sayısal sütunlara dönüştürme işlemi yapalım sonrasında NaN değerler için kontrol ve doldurma işlemi yapalım\n",
    "x_train = x_train.apply(pd.to_numeric, errors='coerce')\n",
    "x_test = x_test.apply(pd.to_numeric, errors='coerce')\n",
    "x_train = x_train.fillna(x_train.mean())#fillna() fonksiyonu ile eksik değerler doldurulur\n",
    "x_test = x_test.fillna(x_test.mean())\n",
    "\n",
    "scaler = StandardScaler() #Ölçeklendirme işlemine burada başlıyoruz\n",
    "\n",
    "x_train_scaled = scaler.fit_transform(x_train) #eğitim seti ölçeklendirme\n",
    "x_test_scaled = scaler.transform(x_test) #test setini ölçeklendirme işlemi\n",
    "\n",
    "print(\"\\n Ölçeklendirme Eğitim Seti Boyutu\", x_train_scaled.shape)\n",
    "print(\"\\n Ölçeklendirilmiş Test Seti Boyutu:\", x_test_scaled.shape)"
   ]
  },
  {
   "cell_type": "markdown",
   "metadata": {},
   "source": [
    "# Model Kurulumu \n",
    "* SVR için model oluşturup eğiteceğiz\n",
    "* kernel= 'rbf' bu SVR modelinin kullandığı çekirdek fonksiyonunu belirtir.\n",
    "* rbf(Radial Basis Function), doğrusal olmayan ilişkiler için yaygın olarak kullanılan bir çekirdek fonksiyonudur. Veriler arasındaki mesafeyi hesaplarken daha esnek bir model sağlar. "
   ]
  },
  {
   "cell_type": "markdown",
   "metadata": {},
   "source": [
    "* y için ölçeklendirme işlemi yapıyorum "
   ]
  },
  {
   "cell_type": "code",
   "execution_count": null,
   "metadata": {},
   "outputs": [],
   "source": [
    "print(\"y_train'de eksik değer var mı?\", y_train.isnull().sum())\n",
    "print(y_train.dtypes) #veri türü object olduğu için kodun devamında hataya sebep olacak \n",
    "y_train = y_train.apply(pd.to_numeric, errors='coerce')\n",
    "y_train = y_train.fillna(y_train.mean())\n",
    "\n",
    "y_scaler = StandardScaler()\n",
    "y_train_scaled = y_scaler.fit_transform(y_train.values.reshape(-1,1))\n",
    "y_test_scaled = y_scaler.transform(y_test.values.reshape(-1, 1))\n",
    "y_train_scaled = y_train_scaled.ravel()\n",
    "\n",
    "\n",
    "print(\"\\n Ölçeklendirilmiş y'nin ilk 5 değeri:\", y_train_scaled[:5])\n"
   ]
  },
  {
   "cell_type": "code",
   "execution_count": null,
   "metadata": {},
   "outputs": [],
   "source": [
    "svr_model = SVR(kernel='rbf', C=10, gamma=0.1) #modeli tanımlıyoruz / performansını ölçükten sonra  Hiperparametre optimizasyonu denemesi yaptım\n",
    "svr_model.fit(x_train_scaled, y_train_scaled) #modeli eğitim verisi ile eğitiyoruz\n",
    "print(\"\\n SVR modeli eğitildi\")"
   ]
  },
  {
   "cell_type": "markdown",
   "metadata": {},
   "source": [
    "* PR - Polynomial Regression"
   ]
  },
  {
   "cell_type": "code",
   "execution_count": null,
   "metadata": {},
   "outputs": [],
   "source": [
    "# 1. Pr \n",
    "poly_features = PolynomialFeatures(degree = 2) #polinom derecesine verdik\n",
    "#eğitim ve testi dönüşüme sokuyoruz\n",
    "x_train_poly = poly_features.fit_transform(x_train_scaled) \n",
    "x_test_poly = poly_features.transform(x_test_scaled)\n",
    "\n",
    "#y_train ölçeklendirme işlemi yapıyoruz\n",
    "y_scaler = StandardScaler()\n",
    "y_train_scaled = y_scaler.fit_transform(y_train.values.reshape(-1,1)).ravel()\n",
    "\n",
    "#modeli eğitme \n",
    "pr_model = LinearRegression()\n",
    "pr_model.fit(x_train_poly, y_train_scaled)\n",
    "\n"
   ]
  },
  {
   "cell_type": "markdown",
   "metadata": {},
   "source": [
    "# Tahminler Ve Performans Değerlendirmesi\n",
    "* Test verisi ile tahmin yapacağız\n",
    "* Metrikleri kullanarak performans değerlendireceğiz\n",
    "* Sonuçları görselleştireceğiz\n"
   ]
  },
  {
   "cell_type": "markdown",
   "metadata": {},
   "source": [
    "* SVR"
   ]
  },
  {
   "cell_type": "code",
   "execution_count": null,
   "metadata": {},
   "outputs": [],
   "source": [
    "y_pred_scaled = svr_model.predict(x_test_scaled) #test verisi ile burada tahmin yapıyoruz\n",
    "y_pred = y_scaler.inverse_transform(y_pred_scaled.reshape(-1,1)) #tahmin edilen değerleri orijinal ölçeğe dönüştürüyoruz\n",
    "\n",
    "print(\"\\nGerçek ilk 5 değer: \")\n",
    "print(y_test[:5].values)\n",
    "\n",
    "print(\"\\n Tahmin edilen değerler\")\n",
    "print(y_pred[:5].ravel())\n",
    "\n"
   ]
  },
  {
   "cell_type": "code",
   "execution_count": null,
   "metadata": {},
   "outputs": [],
   "source": [
    "mae = mean_absolute_error(y_test, y_pred)\n",
    "r2 = r2_score(y_test, y_pred)\n",
    "\n",
    "\n",
    "print(\"\\n Model Performansı:\")\n",
    "print(f\"Mean Absolute Error (MAE): {mae:.4f}\")\n",
    "print(f\"R² Skoru: {r2:.4f}\")"
   ]
  },
  {
   "cell_type": "markdown",
   "metadata": {},
   "source": [
    "* PR"
   ]
  },
  {
   "cell_type": "code",
   "execution_count": null,
   "metadata": {},
   "outputs": [],
   "source": [
    "#test ile tahmin yapma\n",
    "y_pred_pr_scaled = pr_model.predict(x_test_poly)\n",
    "y_pred_pr = y_scaler.inverse_transform(y_pred_pr_scaled.reshape(-1,1))\n",
    "\n",
    "#performans değerlendirme\n",
    "mae_pr = mean_absolute_error(y_test, y_pred_pr)\n",
    "r2_pr = r2_score(y_test, y_pred_pr)\n",
    "\n",
    "print(\"\\n Pol Reg performans\")\n",
    "print(f\"Mean Absolute Error (MAE): {mae_pr:.4f}\")\n",
    "print(f\"R² Skoru: {r2_pr:.4f}\")"
   ]
  },
  {
   "cell_type": "markdown",
   "metadata": {},
   "source": [
    "# Görselleştirme \n"
   ]
  },
  {
   "cell_type": "code",
   "execution_count": null,
   "metadata": {},
   "outputs": [],
   "source": [
    "#SVR\n",
    "plt.figure(figsize=(10, 6))\n",
    "plt.plot(y_test.values, label='Gerçek Değerler', color='blue')\n",
    "plt.plot(y_pred, label='Tahmin Edilen Değerler', color='red', linestyle='--')\n",
    "plt.title(\"SVR Modeli: Gerçek Değerler vs Tahmin Edilen Değerler\")\n",
    "plt.xlabel(\"Örnekler\")\n",
    "plt.ylabel(\"FWI Değeri\")\n",
    "plt.legend()\n",
    "plt.show()"
   ]
  },
  {
   "cell_type": "code",
   "execution_count": null,
   "metadata": {},
   "outputs": [],
   "source": [
    "#SVR 2. grafik\n",
    "plt.figure(figsize=(8, 6))\n",
    "plt.scatter(y_test.values, y_pred, color='blue', edgecolors='k', alpha=0.6)\n",
    "plt.plot([min(y_test), max(y_test)], [min(y_test), max(y_test)], linestyle='--', color='red')\n",
    "plt.title(\"SVR Modeli: Gerçek Değerler vs Tahmin Edilen Değerler\")\n",
    "plt.xlabel(\"Gerçek Değerler\")\n",
    "plt.ylabel(\"Tahmin Edilen Değerler\")\n",
    "plt.grid(True)\n",
    "plt.show()"
   ]
  },
  {
   "cell_type": "code",
   "execution_count": null,
   "metadata": {},
   "outputs": [],
   "source": [
    "# 6. PR Sonuçlarını Görselleştirme\n",
    "plt.figure(figsize=(10, 6))\n",
    "plt.plot(y_test.values, label='Gerçek Değerler', color='blue')\n",
    "plt.plot(y_pred_pr, label='PR Tahminleri', color='green', linestyle='-.')\n",
    "plt.title(\"Polynomial Regression: Gerçek Değerler vs Tahmin Edilen Değerler\")\n",
    "plt.xlabel(\"Örnekler\")\n",
    "plt.ylabel(\"FWI Değeri\")\n",
    "plt.legend()\n",
    "plt.show()"
   ]
  },
  {
   "cell_type": "code",
   "execution_count": null,
   "metadata": {},
   "outputs": [],
   "source": [
    "#iki modelin karşılaştırılması\n",
    "plt.figure(figsize=(10, 6))\n",
    "plt.plot(y_test.values, label='Gerçek Değerler', color='blue')\n",
    "plt.plot(y_pred, label='SVR Tahminleri', color='red', linestyle='--')\n",
    "plt.plot(y_pred_pr, label='PR Tahminleri', color='green', linestyle='-.')\n",
    "plt.title(\"SVR ve PR Modelleri: Gerçek vs Tahmin Edilen Değerler\")\n",
    "plt.xlabel(\"Örnekler\")\n",
    "plt.ylabel(\"FWI Değeri\")\n",
    "plt.legend()\n",
    "plt.show()\n"
   ]
  }
 ],
 "metadata": {
  "kernelspec": {
   "display_name": "Python 3",
   "language": "python",
   "name": "python3"
  },
  "language_info": {
   "codemirror_mode": {
    "name": "ipython",
    "version": 3
   },
   "file_extension": ".py",
   "mimetype": "text/x-python",
   "name": "python",
   "nbconvert_exporter": "python",
   "pygments_lexer": "ipython3",
   "version": "3.12.0"
  }
 },
 "nbformat": 4,
 "nbformat_minor": 2
}
