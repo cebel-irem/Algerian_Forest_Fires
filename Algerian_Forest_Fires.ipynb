{
 "cells": [
  {
   "cell_type": "code",
   "execution_count": 2,
   "metadata": {},
   "outputs": [],
   "source": [
    "#Gerekli kütüphaneleri projeye ekleyerek başlıyoruz. \n",
    "import pandas as pd #veri işlemleri için pandas kütüphanesini kullanırız\n",
    "import numpy as np  #sayısal işlemler için numpy kullanacağız\n",
    "import matplotlib.pyplot as plt #grafik işlemleri için \n",
    "from sklearn.model_selection import train_test_split #veri bölme\n",
    "from sklearn.preprocessing import StandardScaler #veri ölçeklendirme\n",
    "\n",
    "from sklearn.svm import SVR #SVR modeli ---> benim ödevdeki algoritmam \n",
    "from sklearn.linear_model import LinearRegression #lineer regresyon \n",
    "from sklearn.preprocessing import PolynomialFeatures #Polinom regresyon \n",
    "from sklearn.metrics import mean_absolute_error, r2_score #Değerlendirme metrikleri\n",
    "\n",
    "#grafiklerin notebook içinde görünmesini sağlamak için aşağıdaki komutu yazıyoruz\n",
    "%matplotlib inline \n",
    "\n",
    "\n"
   ]
  },
  {
   "cell_type": "code",
   "execution_count": null,
   "metadata": {},
   "outputs": [],
   "source": [
    "#Verileri okuyacağız \n",
    "file_path = \"data/forest_fires.csv\" #veri setinin yolunu yazıyoruz. \n",
    "data = pd.read_csv(file_path, skiprows=1, header=0, encoding='utf-8') #Burada dosyayı okuyoruz. \n",
    "print(\"Veri Setinin Ilk 5 Satırı:\") #veri setinde bulunan ilk 5 veriyi çekiyoruz\n",
    "display(data.head()) #ilk 5 veriyi çekecek komut\n",
    "\n",
    "print(\"\\nVeri Setinin Bilgisi:\")\n",
    "data.info() #veri seti hakkında genel bilgiyi bize yazacak\n",
    "\n",
    "print(\"\\nEksik Değerler:\")\n",
    "print(data.isnull().sum()) #eksik değerleri kontol edeceğiz ve print ile yazdıracağız\n"
   ]
  }
 ],
 "metadata": {
  "kernelspec": {
   "display_name": "Python 3",
   "language": "python",
   "name": "python3"
  },
  "language_info": {
   "codemirror_mode": {
    "name": "ipython",
    "version": 3
   },
   "file_extension": ".py",
   "mimetype": "text/x-python",
   "name": "python",
   "nbconvert_exporter": "python",
   "pygments_lexer": "ipython3",
   "version": "3.12.0"
  }
 },
 "nbformat": 4,
 "nbformat_minor": 2
}
