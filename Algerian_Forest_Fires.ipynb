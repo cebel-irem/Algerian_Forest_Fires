{
 "cells": [
  {
   "cell_type": "markdown",
   "metadata": {},
   "source": [
    "# Gerekli Kütüphanelerin Eklenmesi "
   ]
  },
  {
   "cell_type": "code",
   "execution_count": 1353,
   "metadata": {},
   "outputs": [],
   "source": [
    "#Gerekli kütüphaneleri projeye ekleyerek başlıyoruz. \n",
    "import pandas as pd #veri işlemleri için pandas kütüphanesini kullanırız\n",
    "import numpy as np  #sayısal işlemler için numpy kullanacağız\n",
    "import matplotlib.pyplot as plt #grafik işlemleri için \n",
    "from sklearn.model_selection import train_test_split , cross_val_score #test-eğitim verileri bölme vb. işlemler için\n",
    "from sklearn.preprocessing import StandardScaler, MinMaxScaler, RobustScaler #veri ölçeklendirme\n",
    "\n",
    "from sklearn.model_selection import GridSearchCV\n",
    "from sklearn.svm import SVR #SVR modeli ---> benim ödevdeki algoritmam \n",
    "from sklearn.linear_model import LinearRegression #lineer regresyon \n",
    "from sklearn.preprocessing import PolynomialFeatures #Polinom regresyon \n",
    "from sklearn.metrics import mean_absolute_error, r2_score #Değerlendirme metrikleri\n",
    "from sklearn.pipeline import Pipeline\n",
    "\n",
    "#grafiklerin notebook içinde görünmesini sağlamak için aşağıdaki komutu yazıyoruz\n",
    "%matplotlib inline "
   ]
  },
  {
   "cell_type": "markdown",
   "metadata": {},
   "source": [
    "# Veri Önişleme "
   ]
  },
  {
   "cell_type": "markdown",
   "metadata": {},
   "source": [
    "* Veri Setini Okuma Ve İlk 5 Veriyi Yazdırma / Eksik Değerleri Kontrol"
   ]
  },
  {
   "cell_type": "code",
   "execution_count": null,
   "metadata": {},
   "outputs": [],
   "source": [
    "#Verileri okuyacağız \n",
    "file_path = \"data/forest_fires.csv\" #veri setinin yolunu yazıyoruz. \n",
    "data = pd.read_csv(file_path, skiprows=1, header=0, encoding='utf-8') #Burada dosyayı okuyoruz. \n",
    "\n",
    "print(\"Veri Setinin Ilk 5 Satırı:\") #veri setinde bulunan ilk 5 veriyi çekiyoruz\n",
    "display(data.head()) #ilk 5 veriyi çekecek komut\n",
    "\n",
    "print(\"\\nVeri Setinin Bilgisi:\")\n",
    "data.info() #veri seti hakkında genel bilgiyi bize yazacak\n",
    "\n",
    "print(\"\\nEksik Değerler:\")\n",
    "print(data.isnull().sum()) #eksik değerleri kontol edeceğiz ve print ile yazdıracağız\n"
   ]
  },
  {
   "cell_type": "markdown",
   "metadata": {},
   "source": [
    "* Eksik Değerlerin Temizlenmesi/Düzeltilmesi "
   ]
  },
  {
   "cell_type": "code",
   "execution_count": null,
   "metadata": {},
   "outputs": [],
   "source": [
    "#ilk denemem de veri türlerini dikkate almadığım için hata aldım\n",
    "#veri türlerini kontrol ederek sütunları inceleyelim \n",
    "print(\"\\n Sütunlar ve veri türleri\")\n",
    "print(data.dtypes) #bu komut ile veri türlerini kontrol ediyoruz :)\n",
    "\n",
    "#veri tablosundaki yazım şeklinden ötürü hata veriyordu. \n",
    "#Ben de bunu önlemek adına hepsinin başındaki boşlukları silip hepsini büyük harfle yazdırdım.\n",
    "data.columns = data.columns.str.strip().str.upper()\n",
    "# Eksik Değer Kontrol ve Doldurma\n",
    "numeric_columns = ['TEMPERATURE', 'RH', 'WS', 'RAIN', 'FFMC', 'DMC', 'DC', 'ISI', 'BUI', 'FWI']\n",
    "categorical_columns = ['DAY', 'CLASSES']\n",
    "\n",
    "for col in numeric_columns:\n",
    "    data[col] = pd.to_numeric(data[col], errors='coerce')\n",
    "data[numeric_columns] = data[numeric_columns].fillna(data[numeric_columns].mean())\n",
    "for col in categorical_columns:\n",
    "    data[col] = data[col].fillna(data[col].mode()[0])\n",
    "\n",
    "# Kategorik Verileri Sayısallaştırma\n",
    "categorical_columns = ['DAY', 'CLASSES']\n",
    "data = pd.get_dummies(data, columns=categorical_columns, drop_first=True)\n",
    "\n",
    "#eksik sütunları ortalama alarak tamamlıyoruz\n",
    "print(\"\\n Eksik değerlerin doldurulması\")\n",
    "data[numeric_columns] = data[numeric_columns].fillna(data[numeric_columns].mean())\n",
    "\n",
    "print(\"\\n Sütunlar ve veri türleri\")\n",
    "print(data.dtypes)\n",
    "\n",
    "#Eksik değerler doldurulduktan sonrası\n",
    "print(\"\\n Sonrası\")\n",
    "print(data.isnull().sum())\n",
    "print(\"\\n İlk 5 veri\")\n",
    "display(data.head())"
   ]
  },
  {
   "cell_type": "markdown",
   "metadata": {},
   "source": [
    "* Öznitelik Seçimi "
   ]
  },
  {
   "cell_type": "code",
   "execution_count": null,
   "metadata": {},
   "outputs": [],
   "source": [
    "#Ödev de bana \"ilk 1-6 arası öznitelikler kullanılarak modelleme yapılacaktır \" şeklinde bir ibare verildiği için buna dikkate alarak öznitelik seçimlerini yapacağım\n",
    "# ilk 1-6 sütun bağımsız değişkenler yani x olacak \n",
    "x = data.iloc[:, 1:7]\n",
    "print(x.columns)\n",
    "\n",
    "#Bağımlı değişken olarak FWI sütununu seçeceğim\n",
    "y = data['FWI']\n",
    "\n",
    "#Seçimleri doğrulamak için verilerin boyutunu kontrol edeceğiz\n",
    "print(\"\\n Bağımsız Değişken Boyutu\", x.shape)\n",
    "print(\"\\n Bağımlı Değişken Boyutu\", y.shape )\n",
    "\n",
    "#ilk 5 satır görüntüleme \n",
    "print(\"\\n Bağımsız Değişkenler:\")\n",
    "display(x.head())\n",
    "print(\"\\n Bağımlı Değişken:\")\n",
    "display(y.head())\n"
   ]
  },
  {
   "cell_type": "markdown",
   "metadata": {},
   "source": [
    "# Verinin Eğitim ve Test Setlerine Ayrılması "
   ]
  },
  {
   "cell_type": "code",
   "execution_count": null,
   "metadata": {},
   "outputs": [],
   "source": [
    "#Veri setini eğitim ve test verisi olarak ikiye böleceğiz. \n",
    "#Ben %70 eğitim - %30 test verisi olarak ayıracağım fakat %80 eğitim - %20 test şeklinde de bölünebilir\n",
    "#Ben projenin performansını ölçmek için 70-30 seçtim. Model daha iyi öğrensin istersek 80-20 seçilebilir.\n",
    "\n",
    "x_train, x_test, y_train, y_test = train_test_split(x,y, test_size=0.3, random_state=42) #bu komut ile veri setini böldük\n",
    "print(\"\\nEğitim Seti Boyutu:\")\n",
    "print(\"x_train:\", x_train.shape, \"y_train:\", y_train.shape) #shape ile görüntüleme işlemi yapacağız\n",
    "print(\"\\nTest Seti Boyutu:\")\n",
    "print(\"x_test:\", x_test.shape, \"y_test:\", y_test.shape)\n"
   ]
  },
  {
   "cell_type": "markdown",
   "metadata": {},
   "source": [
    "* Veri Ölçeklendirme"
   ]
  },
  {
   "cell_type": "code",
   "execution_count": null,
   "metadata": {},
   "outputs": [],
   "source": [
    "#StandardScaler, veri setindeki özelliklerin(features) standartlaştırılmasını sağlar. \n",
    "#sklearn.preprocessing modülünde yer alır\n",
    "#veriyi hazırlamak için kullanacağız \n",
    "#Bunu kullanmak bize 2 katkı sağlayacak\n",
    "#1. Modelin daha hızlı ve daha doğru öğrenmesi sağlanır.\n",
    "#2. Özniteliklerin (features) farklı ölçekleri arasında dengesizlik önlenir.\n",
    "\n",
    "#SVR modelinde veri ölçeklendirme yapacağız. Bunu yaparken StandardScaler kullanarak normalleştirme yapacağız.\n",
    "#ilk yazdığım kodda sayısal olmayan değişkenleri hesaba katmamıştım. \n",
    "#StandardScaler yalnızca sayısal değerler üzerinde çalışır.\n",
    "\n",
    "#Sayısal sütunlara dönüştürme işlemi yapalım sonrasında NaN değerler için kontrol ve doldurma işlemi yapalım\n",
    "x_train = x_train.apply(pd.to_numeric, errors='coerce')\n",
    "x_test = x_test.apply(pd.to_numeric, errors='coerce')\n",
    "x_train = x_train.fillna(x_train.mean())#fillna() fonksiyonu ile eksik değerler doldurulur\n",
    "x_test = x_test.fillna(x_test.mean())\n",
    "\n",
    "scaler = StandardScaler() #Ölçeklendirme işlemine burada başlıyoruz\n",
    "\n",
    "x_train_scaled = scaler.fit_transform(x_train) #eğitim seti ölçeklendirme\n",
    "x_test_scaled = scaler.transform(x_test) #test setini ölçeklendirme işlemi\n",
    "\n",
    "#y_train ölçeklendirme işlemi yapıyoruz\n",
    "y_scaler = StandardScaler()\n",
    "y_train_scaled = y_scaler.fit_transform(y_train.values.reshape(-1, 1)).ravel()\n",
    "y_test_scaled = y_scaler.transform(y_test.values.reshape(-1, 1))\n",
    "\n",
    "\n",
    "print(\"\\n Ölçeklendirme Eğitim Seti Boyutu\", x_train_scaled.shape)\n",
    "print(\"\\n Ölçeklendirilmiş Test Seti Boyutu:\", x_test_scaled.shape)"
   ]
  },
  {
   "cell_type": "markdown",
   "metadata": {},
   "source": [
    "# Model Kurulumu \n",
    "* SVR için model oluşturup eğiteceğiz\n",
    "* kernel= 'rbf' bu SVR modelinin kullandığı çekirdek fonksiyonunu belirtir.\n",
    "* rbf(Radial Basis Function), doğrusal olmayan ilişkiler için yaygın olarak kullanılan bir çekirdek fonksiyonudur. Veriler arasındaki mesafeyi hesaplarken daha esnek bir model sağlar. "
   ]
  },
  {
   "cell_type": "markdown",
   "metadata": {},
   "source": [
    "** Modeli geliştirmek için hiperparametre optimizasyonu yapacağım. \n",
    "SVR için"
   ]
  },
  {
   "cell_type": "code",
   "execution_count": null,
   "metadata": {},
   "outputs": [],
   "source": [
    "svr_model = SVR(kernel='rbf', C=10, epsilon=0.5, gamma=0.1) #modeli tanımlıyoruz / performansını ölçükten sonra  Hiperparametre optimizasyonu denemesi yaptım\n",
    "svr_model.fit(x_train_scaled, y_train_scaled) #modeli eğitim verisi ile eğitiyoruz\n",
    "print(\"\\n SVR modeli eğitildi\")"
   ]
  },
  {
   "cell_type": "code",
   "execution_count": null,
   "metadata": {},
   "outputs": [],
   "source": [
    "\n",
    "# Hiperparametre Optimizasyonu (SVR)\n",
    "param_grid_svr = {\n",
    "    'C': [1, 10, 100],\n",
    "    'epsilon': [0.1, 0.5, 1],\n",
    "    'gamma': ['scale', 'auto', 0.1, 1],\n",
    "    'kernel': ['rbf', 'linear']\n",
    "}\n",
    "\n",
    "grid_search_svr = GridSearchCV(SVR(), param_grid_svr, cv=5, scoring='r2', verbose=1)\n",
    "grid_search_svr.fit(x_train_scaled, y_train_scaled)\n",
    "best_svr = grid_search_svr.best_estimator_"
   ]
  },
  {
   "cell_type": "markdown",
   "metadata": {},
   "source": [
    "* PR - Polynomial Regression"
   ]
  },
  {
   "cell_type": "markdown",
   "metadata": {},
   "source": [
    "** Hiperparametre Optimizasyonu (Polynomial Regression)\n"
   ]
  },
  {
   "cell_type": "code",
   "execution_count": null,
   "metadata": {},
   "outputs": [],
   "source": [
    "\n",
    "# Pr \n",
    "poly_features = PolynomialFeatures(degree = 2) #polinom derecesine verdik\n",
    "#eğitim ve testi dönüşüme sokuyoruz\n",
    "x_train_poly = poly_features.fit_transform(x_train_scaled) \n",
    "x_test_poly = poly_features.transform(x_test_scaled)\n",
    "\n",
    "#modeli eğitme \n",
    "pr_model = LinearRegression()\n",
    "pr_model.fit(x_train_poly, y_train_scaled)"
   ]
  },
  {
   "cell_type": "code",
   "execution_count": null,
   "metadata": {},
   "outputs": [],
   "source": [
    "pipeline_pr = Pipeline([\n",
    "    ('poly_features', PolynomialFeatures()),\n",
    "    ('linear_regression', LinearRegression())\n",
    "])\n",
    "param_grid_pr = {\n",
    "    'poly_features__degree': [2, 3, 4]\n",
    "}\n",
    "grid_search_pr = GridSearchCV(pipeline_pr, param_grid_pr, cv=5, scoring='r2', verbose=1)\n",
    "grid_search_pr.fit(x_train_scaled, y_train_scaled)\n",
    "best_pr = grid_search_pr.best_estimator_"
   ]
  },
  {
   "cell_type": "markdown",
   "metadata": {},
   "source": [
    "# Tahminler Ve Performans Değerlendirmesi\n",
    "* Test verisi ile tahmin yapacağız\n",
    "* Metrikleri kullanarak performans değerlendireceğiz\n",
    "* Sonuçları görselleştireceğiz\n"
   ]
  },
  {
   "cell_type": "markdown",
   "metadata": {},
   "source": [
    "* SVR"
   ]
  },
  {
   "cell_type": "code",
   "execution_count": null,
   "metadata": {},
   "outputs": [],
   "source": [
    "y_pred_scaled = best_svr.predict(x_test_scaled) #test verisi ile burada tahmin yapıyoruz\n",
    "y_pred = y_scaler.inverse_transform(y_pred_scaled.reshape(-1,1)) #tahmin edilen değerleri orijinal ölçeğe dönüştürüyoruz\n",
    "\n",
    "print(\"\\nGerçek ilk 5 değer: \")\n",
    "print(y_test[:5].values)\n",
    "\n",
    "print(\"\\n Tahmin edilen değerler\")\n",
    "print(y_pred[:5].ravel())"
   ]
  },
  {
   "cell_type": "code",
   "execution_count": null,
   "metadata": {},
   "outputs": [],
   "source": [
    "mae = mean_absolute_error(y_test, y_pred)\n",
    "r2 = r2_score(y_test, y_pred)\n",
    "\n",
    "\n",
    "print(\"\\n Model Performansı:\")\n",
    "print(f\"Mean Absolute Error (MAE): {mae:.4f}\")\n",
    "print(f\"R² Skoru: {r2:.4f}\")"
   ]
  },
  {
   "cell_type": "markdown",
   "metadata": {},
   "source": [
    "* PR"
   ]
  },
  {
   "cell_type": "code",
   "execution_count": null,
   "metadata": {},
   "outputs": [],
   "source": [
    "#test ile tahmin yapma\n",
    "y_pred_pr_scaled = best_pr.predict(x_test_scaled)\n",
    "y_pred_pr = y_scaler.inverse_transform(y_pred_pr_scaled.reshape(-1, 1))\n",
    "\n",
    "#performans değerlendirme\n",
    "mae_pr = mean_absolute_error(y_test, y_pred_pr)\n",
    "r2_pr = r2_score(y_test, y_pred_pr)\n",
    "\n",
    "print(\"\\n Pol Reg performans\")\n",
    "print(f\"Mean Absolute Error (MAE): {mae_pr:.4f}\")\n",
    "print(f\"R² Skoru: {r2_pr:.4f}\")"
   ]
  },
  {
   "cell_type": "markdown",
   "metadata": {},
   "source": [
    "## Çapraz Doğrulama"
   ]
  },
  {
   "cell_type": "code",
   "execution_count": 1366,
   "metadata": {},
   "outputs": [],
   "source": [
    "cv_scores_svr = cross_val_score(best_svr, x_train_scaled, y_train_scaled, cv=5, scoring='r2')\n",
    "cv_scores_pr = cross_val_score(best_pr, x_train_scaled, y_train_scaled, cv=5, scoring='r2')"
   ]
  },
  {
   "cell_type": "markdown",
   "metadata": {},
   "source": [
    "# Görselleştirme \n"
   ]
  },
  {
   "cell_type": "markdown",
   "metadata": {},
   "source": [
    "** Görselleştirme yaparken önce SVR için sonra PR algoritması için grafikler çizdirdim. Hemen ardından Çapraz Doğrulamayı gösterdim. Son olarak da iki algoritmayı ve gerçek değerleri bir grafikte karşılaştırdım. "
   ]
  },
  {
   "cell_type": "code",
   "execution_count": null,
   "metadata": {},
   "outputs": [],
   "source": [
    "#SVR 1.grafik\n",
    "plt.figure(figsize=(10, 6))\n",
    "plt.plot(y_test.values, label='Gerçek Değerler', color='blue')\n",
    "plt.plot(y_pred, label='Tahmin Edilen Değerler', color='red', linestyle='--')\n",
    "plt.title(\"SVR Modeli: Gerçek Değerler vs Tahmin Edilen Değerler\")\n",
    "plt.xlabel(\"Örnekler\")\n",
    "plt.ylabel(\"FWI Değeri\")\n",
    "plt.legend()\n",
    "plt.show()"
   ]
  },
  {
   "cell_type": "code",
   "execution_count": null,
   "metadata": {},
   "outputs": [],
   "source": [
    "#SVR 2. grafik\n",
    "plt.figure(figsize=(8, 6))\n",
    "plt.scatter(y_test.values, y_pred, color='blue', edgecolors='k', alpha=0.6)\n",
    "plt.plot([min(y_test), max(y_test)], [min(y_test), max(y_test)], linestyle='--', color='red')\n",
    "plt.title(\"SVR Modeli: Gerçek Değerler vs Tahmin Edilen Değerler\")\n",
    "plt.xlabel(\"Gerçek Değerler\")\n",
    "plt.ylabel(\"Tahmin Edilen Değerler\")\n",
    "plt.grid(True)\n",
    "plt.show()"
   ]
  },
  {
   "cell_type": "code",
   "execution_count": null,
   "metadata": {},
   "outputs": [],
   "source": [
    "# SVR Veri Dağılımı ve Regresyon Doğrusu Grafiği\n",
    "plt.figure(figsize=(10, 6))\n",
    "\n",
    "# Veri noktaları (gerçek değerler)\n",
    "plt.scatter(range(len(y_test)), y_test.values, color='red', label='Gerçek Değerler', alpha=0.6)\n",
    "\n",
    "# Tahmin edilen eğri (SVR tahminleri)\n",
    "plt.plot(range(len(y_pred)), y_pred, color='blue', label='SVR Tahmin Eğrisi', linewidth=2)\n",
    "\n",
    "plt.title(\"SVR: Veri Dağılımı ve Regresyon Eğrisi\")\n",
    "plt.xlabel(\"Örnekler\")\n",
    "plt.ylabel(\"FWI Değeri\")\n",
    "plt.legend()\n",
    "plt.grid(True)\n",
    "plt.show()"
   ]
  },
  {
   "cell_type": "code",
   "execution_count": null,
   "metadata": {},
   "outputs": [],
   "source": [
    "# 6. PR Sonuçlarını Görselleştirme\n",
    "plt.figure(figsize=(10, 6))\n",
    "plt.plot(y_test.values, label='Gerçek Değerler', color='blue')\n",
    "plt.plot(y_pred_pr, label='PR Tahminleri', color='green', linestyle='-.')\n",
    "plt.title(\"Polynomial Regression: Gerçek Değerler vs Tahmin Edilen Değerler\")\n",
    "plt.xlabel(\"Örnekler\")\n",
    "plt.ylabel(\"FWI Değeri\")\n",
    "plt.legend()\n",
    "plt.show()"
   ]
  },
  {
   "cell_type": "code",
   "execution_count": null,
   "metadata": {},
   "outputs": [],
   "source": [
    "# PR Veri Dağılımı ve Polinom Eğrisi Grafiği\n",
    "plt.figure(figsize=(10, 6))\n",
    "\n",
    "# Veri noktaları (gerçek değerler)\n",
    "plt.scatter(range(len(y_test)), y_test.values, color='red', label='Gerçek Değerler', alpha=0.6)\n",
    "\n",
    "# Tahmin edilen polinom eğrisi (PR tahminleri)\n",
    "plt.plot(range(len(y_pred_pr)), y_pred_pr, color='green', label='Polinom Tahmin Eğrisi', linewidth=2)\n",
    "\n",
    "plt.title(\"Polynomial Regression: Veri Dağılımı ve Polinom Eğrisi\")\n",
    "plt.xlabel(\"Örnekler\")\n",
    "plt.ylabel(\"FWI Değeri\")\n",
    "plt.legend()\n",
    "plt.grid(True)\n",
    "plt.show()\n"
   ]
  },
  {
   "cell_type": "code",
   "execution_count": null,
   "metadata": {},
   "outputs": [],
   "source": [
    "# Çapraz Doğrulama Sonuçları\n",
    "print(\"SVR Çapraz Doğrulama Skorları:\", cv_scores_svr)\n",
    "print(\"SVR Ortalama CV Skoru:\", np.mean(cv_scores_svr))\n",
    "print(\"Polynomial Regression Çapraz Doğrulama Skorları:\", cv_scores_pr)\n",
    "print(\"Polynomial Regression Ortalama CV Skoru:\", np.mean(cv_scores_pr))\n",
    "# Sonuçların Karşılaştırılması\n",
    "results = {\n",
    "    'Model': ['SVR', 'Polynomial Regression'],\n",
    "    'R² Score': [r2, r2_pr],\n",
    "    'MAE': [mae, mae_pr]\n",
    "}\n",
    "results_df = pd.DataFrame(results)\n",
    "print(results_df)\n",
    "\n"
   ]
  },
  {
   "cell_type": "code",
   "execution_count": null,
   "metadata": {},
   "outputs": [],
   "source": [
    "#iki modelin karşılaştırılması\n",
    "plt.figure(figsize=(10, 6))\n",
    "plt.plot(y_test.values, label='Gerçek Değerler', color='blue')\n",
    "plt.plot(y_pred, label='SVR Tahminleri', color='red', linestyle='--')\n",
    "plt.plot(y_pred_pr, label='PR Tahminleri', color='green', linestyle='-.')\n",
    "plt.title(\"SVR ve PR Modelleri: Gerçek vs Tahmin Edilen Değerler\")\n",
    "plt.xlabel(\"Örnekler\")\n",
    "plt.ylabel(\"FWI Değeri\")\n",
    "plt.legend()\n",
    "plt.show()\n"
   ]
  }
 ],
 "metadata": {
  "kernelspec": {
   "display_name": "Python 3",
   "language": "python",
   "name": "python3"
  },
  "language_info": {
   "codemirror_mode": {
    "name": "ipython",
    "version": 3
   },
   "file_extension": ".py",
   "mimetype": "text/x-python",
   "name": "python",
   "nbconvert_exporter": "python",
   "pygments_lexer": "ipython3",
   "version": "3.12.0"
  }
 },
 "nbformat": 4,
 "nbformat_minor": 2
}
